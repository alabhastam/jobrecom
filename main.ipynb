{
 "cells": [
  {
   "cell_type": "markdown",
   "id": "c14b4cf8",
   "metadata": {
    "papermill": {
     "duration": 0.001843,
     "end_time": "2025-10-06T18:51:52.382449",
     "exception": false,
     "start_time": "2025-10-06T18:51:52.380606",
     "status": "completed"
    },
    "tags": []
   },
   "source": [
    "<div style=\"background-color:#1e1e1e; color:#f2f2f2; padding:20px; font-family:Arial, sans-serif\">\n",
    "    <h2 style=\"color:#00c8ff;\">Step 1: Load & Inspect Dataset</h2>\n",
    "    <p>In this step we aim to:</p>\n",
    "    <ul>\n",
    "        <li>Load the dataset from the Kaggle environment.</li>\n",
    "        <li>Preview the first few rows to understand its structure.</li>\n",
    "        <li>Generate a statistical summary of all columns.</li>\n",
    "        <li>Save these insights as a <b>Dark Theme HTML report</b> for easy viewing.</li>\n",
    "    </ul>\n",
    "    <p>This inspection is essential to understand the dataset before any preprocessing or model building.</p>\n",
    "</div>\n"
   ]
  },
  {
   "cell_type": "code",
   "execution_count": 1,
   "id": "d99794ed",
   "metadata": {
    "execution": {
     "iopub.execute_input": "2025-10-06T18:51:52.386615Z",
     "iopub.status.busy": "2025-10-06T18:51:52.386323Z",
     "iopub.status.idle": "2025-10-06T18:51:54.271236Z",
     "shell.execute_reply": "2025-10-06T18:51:54.269971Z"
    },
    "papermill": {
     "duration": 1.889081,
     "end_time": "2025-10-06T18:51:54.273020",
     "exception": false,
     "start_time": "2025-10-06T18:51:52.383939",
     "status": "completed"
    },
    "tags": []
   },
   "outputs": [
    {
     "name": "stdout",
     "output_type": "stream",
     "text": [
      "Preview of dataset:\n",
      "       JobID           Title ExperienceLevel YearsOfExperience  \\\n",
      "0  NET-F-001  .NET Developer         Fresher               0-1   \n",
      "1  NET-F-002  .NET Developer         Fresher               0-1   \n",
      "2  NET-F-003  .NET Developer         Fresher               0-1   \n",
      "3  NET-F-004  .NET Developer         Fresher               0-1   \n",
      "4  NET-F-005  .NET Developer         Fresher               0-1   \n",
      "\n",
      "                                              Skills  \\\n",
      "0  C#; VB.NET basics; .NET Framework; .NET Core f...   \n",
      "1  C#; .NET Framework basics; ASP.NET; Razor; HTM...   \n",
      "2  C#; VB.NET basics; .NET Core; ASP.NET MVC; HTM...   \n",
      "3  C#; .NET Framework; ASP.NET basics; SQL Server...   \n",
      "4  C#; ASP.NET; MVC; Entity Framework basics; SQL...   \n",
      "\n",
      "                                    Responsibilities  \\\n",
      "0  Assist in coding and debugging applications; L...   \n",
      "1  Write simple C# programs under guidance; Suppo...   \n",
      "2  Contribute to development of small modules; As...   \n",
      "3  Support in software design documentation; Assi...   \n",
      "4  Learn to design and build ASP.NET applications...   \n",
      "\n",
      "                                            Keywords  \n",
      "0  .NET; C#; ASP.NET MVC; Entity Framework; SQL S...  \n",
      "1  .NET; C#; ASP.NET MVC; Entity Framework; SQL S...  \n",
      "2  .NET; C#; ASP.NET MVC; SQL Server; Entity Fram...  \n",
      "3    .NET; C#; SQL Server; Entity Framework; ASP.NET  \n",
      "4  .NET; C#; ASP.NET MVC; Entity Framework; SQL S...  \n",
      "\n",
      "Dataset Info:\n",
      "<class 'pandas.core.frame.DataFrame'>\n",
      "RangeIndex: 1068 entries, 0 to 1067\n",
      "Data columns (total 7 columns):\n",
      " #   Column             Non-Null Count  Dtype \n",
      "---  ------             --------------  ----- \n",
      " 0   JobID              1068 non-null   object\n",
      " 1   Title              1067 non-null   object\n",
      " 2   ExperienceLevel    1068 non-null   object\n",
      " 3   YearsOfExperience  1068 non-null   object\n",
      " 4   Skills             1068 non-null   object\n",
      " 5   Responsibilities   1068 non-null   object\n",
      " 6   Keywords           1068 non-null   object\n",
      "dtypes: object(7)\n",
      "memory usage: 58.5+ KB\n",
      "None\n",
      "\n",
      "Summary Statistics:\n",
      "       JobID           Title ExperienceLevel YearsOfExperience  \\\n",
      "count   1068            1067            1068              1068   \n",
      "unique  1038             218              11               110   \n",
      "top        5  .NET Developer     Experienced               0-1   \n",
      "freq       3              20             476               247   \n",
      "\n",
      "                                                   Skills  \\\n",
      "count                                                1068   \n",
      "unique                                                969   \n",
      "top     Salesforce; HubSpot; Predictive Analytics; Lea...   \n",
      "freq                                                    6   \n",
      "\n",
      "                                         Responsibilities  \\\n",
      "count                                                1068   \n",
      "unique                                               1047   \n",
      "top     Define and drive product strategy; Lead produc...   \n",
      "freq                                                    3   \n",
      "\n",
      "                                                 Keywords  \n",
      "count                                                1068  \n",
      "unique                                                678  \n",
      "top     JavaScript; TypeScript; React; Node.js; Jest; ...  \n",
      "freq                                                   15  \n"
     ]
    }
   ],
   "source": [
    "import pandas as pd\n",
    "\n",
    "# Path to dataset in Kaggle environment\n",
    "path = \"/kaggle/input/job-descriptions-2025-tech-and-non-tech-roles/job_dataset.csv\"\n",
    "\n",
    "# Load dataset\n",
    "df = pd.read_csv(path)\n",
    "\n",
    "# Preview first 5 rows\n",
    "print(\"Preview of dataset:\")\n",
    "print(df.head())\n",
    "\n",
    "# General info\n",
    "print(\"\\nDataset Info:\")\n",
    "print(df.info())\n",
    "\n",
    "# Summary statistics\n",
    "print(\"\\nSummary Statistics:\")\n",
    "print(df.describe(include='all'))\n"
   ]
  }
 ],
 "metadata": {
  "kaggle": {
   "accelerator": "none",
   "dataSources": [
    {
     "datasetId": 8178682,
     "sourceId": 12925063,
     "sourceType": "datasetVersion"
    }
   ],
   "dockerImageVersionId": 31153,
   "isGpuEnabled": false,
   "isInternetEnabled": true,
   "language": "python",
   "sourceType": "notebook"
  },
  "kernelspec": {
   "display_name": "Python 3",
   "language": "python",
   "name": "python3"
  },
  "language_info": {
   "codemirror_mode": {
    "name": "ipython",
    "version": 3
   },
   "file_extension": ".py",
   "mimetype": "text/x-python",
   "name": "python",
   "nbconvert_exporter": "python",
   "pygments_lexer": "ipython3",
   "version": "3.11.13"
  },
  "papermill": {
   "default_parameters": {},
   "duration": 6.893098,
   "end_time": "2025-10-06T18:51:54.794203",
   "environment_variables": {},
   "exception": null,
   "input_path": "__notebook__.ipynb",
   "output_path": "__notebook__.ipynb",
   "parameters": {},
   "start_time": "2025-10-06T18:51:47.901105",
   "version": "2.6.0"
  }
 },
 "nbformat": 4,
 "nbformat_minor": 5
}
